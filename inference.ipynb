{
 "cells": [
  {
   "cell_type": "code",
   "execution_count": 5,
   "id": "5381829a",
   "metadata": {},
   "outputs": [],
   "source": [
    "from model.lina import Lina\n",
    "from dataset import ManifestDataset, ManifestDataModule\n",
    "import torch\n",
    "import numpy as np\n",
    "from matplotlib import pyplot as plt\n",
    "from vocos import Vocos\n",
    "from IPython.display import Audio, display\n",
    "from einops import rearrange, reduce, repeat\n",
    "from pathlib import Path\n",
    "from tqdm import tqdm\n",
    "import pytorch_lightning as ptl\n",
    "#import phonemizer\n",
    "import time"
   ]
  },
  {
   "cell_type": "code",
   "execution_count": 8,
   "id": "2bd0e629",
   "metadata": {},
   "outputs": [
    {
     "name": "stdout",
     "output_type": "stream",
     "text": [
      "total 1971084\n",
      "lrwxrwxrwx 1 1000 1000       105 14 janv. 19:44  \u001b[0m\u001b[01;36mlast-v1.ckpt\u001b[0m -> '/home/lemerle/lina/ttc/checkpoints/ttc_libritts360clean/checkpoint_epoch=4_step=9900_val_loss=3.5177.ckpt'\n",
      "-rw-r--r-- 1 1000 1000 388895906 14 janv. 18:35 'checkpoint_epoch=4_step=9900_val_loss=3.5177.ckpt'\n",
      "-rw-r--r-- 1 1000 1000 388895906 14 janv. 18:25 'checkpoint_epoch=3_step=7920_val_loss=3.5154.ckpt'\n",
      "-rw-r--r-- 1 1000 1000 388895906 14 janv. 18:15 'checkpoint_epoch=2_step=5940_val_loss=3.5211.ckpt'\n",
      "lrwxrwxrwx 1 1000 1000       107 14 janv. 12:22  \u001b[01;36mlast.ckpt\u001b[0m -> '/home/lemerle/lina/ttc/checkpoints/ttc_libritts360clean/checkpoint_epoch=20_step=33789_val_loss=3.1782.ckpt'\n",
      "-rw-r--r-- 1 1000 1000 283890540 14 janv. 12:22 'checkpoint_epoch=20_step=33789_val_loss=3.1782.ckpt'\n",
      "-rw-r--r-- 1 1000 1000 283890540 14 janv. 12:14 'checkpoint_epoch=19_step=32180_val_loss=3.1840.ckpt'\n",
      "-rw-r--r-- 1 1000 1000 283890540 14 janv. 12:06 'checkpoint_epoch=18_step=30571_val_loss=3.1879.ckpt'\n"
     ]
    }
   ],
   "source": [
    "%ls -nt ttc/checkpoints/ttc_libritts360clean"
   ]
  },
  {
   "cell_type": "code",
   "execution_count": 45,
   "id": "83b65e2a",
   "metadata": {},
   "outputs": [
    {
     "name": "stderr",
     "output_type": "stream",
     "text": [
      "/home/lemerle/miniforge3/envs/torch/lib/python3.10/site-packages/pytorch_lightning/utilities/parsing.py:198: Attribute 'attentive_rnn' is an instance of `nn.Module` and is already saved during checkpointing. It is recommended to ignore them using `self.save_hyperparameters(ignore=['attentive_rnn'])`.\n",
      "/home/lemerle/miniforge3/envs/torch/lib/python3.10/site-packages/pytorch_lightning/utilities/parsing.py:198: Attribute 'txt_encoder' is an instance of `nn.Module` and is already saved during checkpointing. It is recommended to ignore them using `self.save_hyperparameters(ignore=['txt_encoder'])`.\n",
      "/home/lemerle/miniforge3/envs/torch/lib/python3.10/site-packages/torch/nn/utils/weight_norm.py:30: UserWarning: torch.nn.utils.weight_norm is deprecated in favor of torch.nn.utils.parametrizations.weight_norm.\n",
      "  warnings.warn(\"torch.nn.utils.weight_norm is deprecated in favor of torch.nn.utils.parametrizations.weight_norm.\")\n"
     ]
    }
   ],
   "source": [
    "#model = TTC.load_from_checkpoint(\"ttc/checkpoints/ttc_libritts360clean/last-v11.ckpt\").cuda().train(True)\n",
    "model = Lina.load_from_checkpoint(\"ttc/checkpoints/ttc_libritts360clean/last.ckpt\").cuda().train(True)\n",
    "\n",
    "vocos = Vocos.from_pretrained(\"charactr/vocos-encodec-24khz\").cuda()"
   ]
  },
  {
   "cell_type": "code",
   "execution_count": 46,
   "id": "59580350-2c85-4e33-b205-a7f66893352a",
   "metadata": {},
   "outputs": [],
   "source": [
    "def vocos_code_to_wav(code, bandwidth):\n",
    "    feat = vocos.codes_to_features(code)\n",
    "    return vocos.decode(feat, bandwidth_id=torch.tensor(bandwidth, device=code.device))\n",
    "\n",
    "def to_vocos(x):\n",
    "    x = torch.stack(x)\n",
    "    x = undelay_rvq(x.T)\n",
    "    x = (x - 1).clamp_min(0)\n",
    "    return x\n",
    "    \n",
    "def undelay_rvq(extended_code):\n",
    "    q, _ = extended_code.shape\n",
    "    for i in range(q):\n",
    "        extended_code[i, :] = torch.roll(extended_code[i, :], -(i + 1))\n",
    "    return extended_code[:, :-(q+1)]\n",
    "\n",
    "def txt_to_phon(x):\n",
    "    return espeak.phonemize([x], strip=True, njobs=1)[0]\n",
    "    \n",
    "def phon_to_code(x):\n",
    "    y = [ds.vocab_x_code[t] for t in x]\n",
    "    y = [ds.vocab_x_code[\"BOS\"]] + y + [ds.vocab_x_code[\"EOS\"]]\n",
    "    return torch.tensor(y)"
   ]
  },
  {
   "cell_type": "code",
   "execution_count": 47,
   "id": "a200d4ec-f6d8-4362-96ed-3ea05198cbdd",
   "metadata": {},
   "outputs": [
    {
     "name": "stdout",
     "output_type": "stream",
     "text": [
      "SYMBOLS:  ['̩', 'ˈ', 'x', 'r', 'v', 'ʃ', '̃', 'ː', 'b', 'ʲ', 'l', 'o', 'e', '—', 'ᵻ', 'ɡ', 'ɐ', 'u', '?', 'w', 'ɚ', ',', 'ɑ', 'n', 'ˌ', 'æ', ' ', 'p', 'z', 'ɹ', 'ɜ', 'ɬ', 'ɔ', 't', 'a', 'ð', 'ʌ', 's', '.', 'ɾ', 'j', 'ɛ', ';', 'ɪ', 'd', 'm', 'ʊ', 'ʔ', 'ə', 'θ', 'i', 'ʒ', '!', 'f', ':', '\"', 'h', 'k', 'ç', 'ŋ', '“', '”']\n"
     ]
    }
   ],
   "source": [
    "datamodule = ManifestDataModule(\n",
    "                    env_root=\"DBROOT\",\n",
    "                    root_path=\"LibriTTS/feats_train-clean-360\",\n",
    "                    train_manifest_path=\"simplettsdataset/libritts_train-clean-360_ttc_length.json\",\n",
    "                    symbols_file=\"symbols.txt\",\n",
    "                    quant_layer=[0,1,2,3],\n",
    "                    phon_col=\".phonemized.txt\",\n",
    "                    #metadata_col=[\"speaker\", \"book\", \"sentence\", \".normalized.txt\"],\n",
    "                    filter_min=800,\n",
    "                    batch_size=1,\n",
    "                    )\n",
    "datamodule.setup(\"\")\n",
    "dl = iter(datamodule.train_dataloader())"
   ]
  },
  {
   "cell_type": "code",
   "execution_count": 1,
   "id": "3d89f95e-e311-4b18-98d4-8bb419bef390",
   "metadata": {},
   "outputs": [
    {
     "ename": "NameError",
     "evalue": "name 'model' is not defined",
     "output_type": "error",
     "traceback": [
      "\u001b[0;31m---------------------------------------------------------------------------\u001b[0m",
      "\u001b[0;31mNameError\u001b[0m                                 Traceback (most recent call last)",
      "Cell \u001b[0;32mIn[1], line 1\u001b[0m\n\u001b[0;32m----> 1\u001b[0m model \u001b[38;5;241m=\u001b[39m \u001b[43mmodel\u001b[49m\u001b[38;5;241m.\u001b[39mtrain(\u001b[38;5;28;01mFalse\u001b[39;00m)\n\u001b[1;32m      2\u001b[0m \u001b[38;5;28mdir\u001b[39m \u001b[38;5;241m=\u001b[39m Path(\u001b[38;5;124m\"\u001b[39m\u001b[38;5;124meval_test_clean_prompt\u001b[39m\u001b[38;5;124m\"\u001b[39m)\n\u001b[1;32m      3\u001b[0m \u001b[38;5;28mdir\u001b[39m\u001b[38;5;241m.\u001b[39mmkdir(exist_ok\u001b[38;5;241m=\u001b[39m\u001b[38;5;28;01mTrue\u001b[39;00m)\n",
      "\u001b[0;31mNameError\u001b[0m: name 'model' is not defined"
     ]
    }
   ],
   "source": [
    "model = model.train(False)\n",
    "dir = Path(\"eval_test_clean_prompt\")\n",
    "dir.mkdir(exist_ok=True)\n",
    "\n",
    "prompt_len = 225 #3s\n",
    "#sample\n",
    "batch = next(dl)\n",
    "x, y, x_len, y_len, code, phon, metadata = map(lambda x: x.cuda() if hasattr(x, \"cuda\") else x, batch)\n",
    "\n",
    "#metadata = metadata[0]\n",
    "#metadata[\".normalized.txt\"] = open(datamodule.root_path/metadata[\".normalized.txt\"], \"r\").read()\n",
    "\n",
    "qs, atts_hat = model.generate(x[0],\n",
    "                              device=\"cuda\",\n",
    "                              k=200,\n",
    "                              temp=1.,\n",
    "                              max_seqlen=2000,\n",
    "                              prompt=y[:,:prompt_len],\n",
    "                             )\n",
    "\n",
    "wav = vocos_code_to_wav(to_vocos(qs), 2)\n",
    "wav_orig = vocos_code_to_wav(code[0].cuda(), 2)\n",
    "\n",
    "fig = plot_atts(atts_hat.numpy(force=True)[0])\n",
    "fig.suptitle(metadata)\n",
    "fig.show()\n",
    "\n",
    "\n",
    "Audio(wav_orig.cpu(), rate=24000)\n",
    "Audio(wav.cpu(), rate=24000)"
   ]
  },
  {
   "cell_type": "code",
   "execution_count": 9,
   "id": "f7ebb77d-1692-4411-89e2-e2508a3cbf67",
   "metadata": {},
   "outputs": [],
   "source": [
    "import polars as pl\n",
    "import os\n",
    "from random import choice\n",
    "from pathlib import Path\n",
    "manifest = pl.read_json(Path(os.environ[\"DBROOT\"])/\"simplettsdataset/libritts_feats_test-clean_manifest_length.json\")\n",
    "df = manifest.tail(-1).with_row_count().select([\"row_nr\",\"speaker\",\"length\"])\n",
    "speakers = [spk for spk in df.partition_by(\"speaker\") if len(spk)>1]"
   ]
  },
  {
   "cell_type": "code",
   "execution_count": 10,
   "id": "57695049-79ab-4c2b-b36a-afe11d80ac32",
   "metadata": {},
   "outputs": [
    {
     "name": "stdout",
     "output_type": "stream",
     "text": [
      "SYMBOLS:  ['̩', 'ˈ', 'x', 'r', 'v', 'ʃ', '̃', 'ː', 'b', 'ʲ', 'l', 'o', 'e', '—', 'ᵻ', 'ɡ', 'ɐ', 'u', '?', 'w', 'ɚ', ',', 'ɑ', 'n', 'ˌ', 'æ', ' ', 'p', 'z', 'ɹ', 'ɜ', 'ɬ', 'ɔ', 't', 'a', 'ð', 'ʌ', 's', '.', 'ɾ', 'j', 'ɛ', ';', 'ɪ', 'd', 'm', 'ʊ', 'ʔ', 'ə', 'θ', 'i', 'ʒ', '!', 'f', ':', '\"', 'h', 'k', 'ç', 'ŋ', '“', '”']\n"
     ]
    }
   ],
   "source": [
    "prompt_datamodule = ManifestDataModule(\n",
    "                    env_root=\"DBROOT\",\n",
    "                    root_path=\"LibriTTS/LibriTTS/feats_test-clean\",\n",
    "                    train_manifest_path=\"simplettsdataset/libritts_feats_test-clean_manifest_length.json\",\n",
    "                    symbols_file=\"symbol.txt\",\n",
    "                    quant_layer=[0,1,2,3],\n",
    "                    phon_col=\".normalized.phonemized.txt\",\n",
    "                    metadata_col=[\"speaker\", \"book\", \"chapter\", \"sentence\", \".normalized.txt\"],\n",
    "                    #filter_min=800,\n",
    "                    batch_size=1,\n",
    "                    val_dataset_size=1,\n",
    "                    )\n",
    "prompt_datamodule.setup(\"\")\n",
    "dl_prompt = iter(datamodule.train_dataloader())"
   ]
  },
  {
   "cell_type": "code",
   "execution_count": 53,
   "id": "10b0be68-f5e0-4271-8378-096c0df85797",
   "metadata": {},
   "outputs": [
    {
     "name": "stderr",
     "output_type": "stream",
     "text": [
      "  2%|██▎                                                                                        | 1/40 [00:06<04:23,  6.74s/it]"
     ]
    },
    {
     "name": "stdout",
     "output_type": "stream",
     "text": [
      "RTF : 1.7348738989750805\n"
     ]
    },
    {
     "name": "stderr",
     "output_type": "stream",
     "text": [
      "  5%|████▌                                                                                      | 2/40 [00:13<04:23,  6.93s/it]"
     ]
    },
    {
     "name": "stdout",
     "output_type": "stream",
     "text": [
      "RTF : 1.8988041283772794\n"
     ]
    },
    {
     "name": "stderr",
     "output_type": "stream",
     "text": [
      "  8%|██████▊                                                                                    | 3/40 [00:20<04:18,  6.98s/it]"
     ]
    },
    {
     "name": "stdout",
     "output_type": "stream",
     "text": [
      "RTF : 1.8395907280259678\n"
     ]
    },
    {
     "name": "stderr",
     "output_type": "stream",
     "text": [
      " 10%|█████████                                                                                  | 4/40 [00:27<04:07,  6.87s/it]"
     ]
    },
    {
     "name": "stdout",
     "output_type": "stream",
     "text": [
      "RTF : 1.7061720857003477\n"
     ]
    },
    {
     "name": "stderr",
     "output_type": "stream",
     "text": [
      " 12%|███████████▍                                                                               | 5/40 [00:34<04:06,  7.05s/it]"
     ]
    },
    {
     "name": "stdout",
     "output_type": "stream",
     "text": [
      "RTF : 1.8819816600612747\n"
     ]
    },
    {
     "name": "stderr",
     "output_type": "stream",
     "text": [
      " 15%|█████████████▋                                                                             | 6/40 [00:43<04:20,  7.65s/it]"
     ]
    },
    {
     "name": "stdout",
     "output_type": "stream",
     "text": [
      "RTF : 1.8860700758429279\n"
     ]
    },
    {
     "name": "stderr",
     "output_type": "stream",
     "text": [
      " 18%|███████████████▉                                                                           | 7/40 [00:51<04:16,  7.78s/it]"
     ]
    },
    {
     "name": "stdout",
     "output_type": "stream",
     "text": [
      "RTF : 1.892986634419923\n",
      "RTF : 1.8885311297016556\n"
     ]
    },
    {
     "name": "stderr",
     "output_type": "stream",
     "text": [
      " 22%|████████████████████▍                                                                      | 9/40 [01:06<03:46,  7.32s/it]"
     ]
    },
    {
     "name": "stdout",
     "output_type": "stream",
     "text": [
      "RTF : 1.8303511300749868\n"
     ]
    },
    {
     "name": "stderr",
     "output_type": "stream",
     "text": [
      " 25%|██████████████████████▌                                                                   | 10/40 [01:11<03:18,  6.61s/it]"
     ]
    },
    {
     "name": "stdout",
     "output_type": "stream",
     "text": [
      "RTF : 1.9208003135384264\n"
     ]
    },
    {
     "name": "stderr",
     "output_type": "stream",
     "text": [
      " 28%|████████████████████████▊                                                                 | 11/40 [01:18<03:20,  6.93s/it]"
     ]
    },
    {
     "name": "stdout",
     "output_type": "stream",
     "text": [
      "RTF : 1.8845052586533204\n"
     ]
    },
    {
     "name": "stderr",
     "output_type": "stream",
     "text": [
      " 30%|███████████████████████████                                                               | 12/40 [01:25<03:11,  6.85s/it]"
     ]
    },
    {
     "name": "stdout",
     "output_type": "stream",
     "text": [
      "RTF : 1.9011149349390977\n"
     ]
    },
    {
     "name": "stderr",
     "output_type": "stream",
     "text": [
      " 32%|█████████████████████████████▎                                                            | 13/40 [01:32<03:03,  6.79s/it]"
     ]
    },
    {
     "name": "stdout",
     "output_type": "stream",
     "text": [
      "RTF : 1.728224645172918\n"
     ]
    },
    {
     "name": "stderr",
     "output_type": "stream",
     "text": [
      " 35%|███████████████████████████████▍                                                          | 14/40 [01:40<03:08,  7.24s/it]"
     ]
    },
    {
     "name": "stdout",
     "output_type": "stream",
     "text": [
      "RTF : 1.7613364123477988\n"
     ]
    },
    {
     "name": "stderr",
     "output_type": "stream",
     "text": [
      " 38%|█████████████████████████████████▊                                                        | 15/40 [01:44<02:38,  6.32s/it]"
     ]
    },
    {
     "name": "stdout",
     "output_type": "stream",
     "text": [
      "RTF : 1.9074349780865465\n"
     ]
    },
    {
     "name": "stderr",
     "output_type": "stream",
     "text": [
      " 40%|████████████████████████████████████                                                      | 16/40 [01:50<02:32,  6.34s/it]"
     ]
    },
    {
     "name": "stdout",
     "output_type": "stream",
     "text": [
      "RTF : 1.9077562669721335\n"
     ]
    },
    {
     "name": "stderr",
     "output_type": "stream",
     "text": [
      " 42%|██████████████████████████████████████▎                                                   | 17/40 [01:59<02:38,  6.90s/it]"
     ]
    },
    {
     "name": "stdout",
     "output_type": "stream",
     "text": [
      "RTF : 1.8963330027894179\n"
     ]
    },
    {
     "name": "stderr",
     "output_type": "stream",
     "text": [
      " 45%|████████████████████████████████████████▌                                                 | 18/40 [02:06<02:37,  7.18s/it]"
     ]
    },
    {
     "name": "stdout",
     "output_type": "stream",
     "text": [
      "RTF : 1.8878594900709433\n"
     ]
    },
    {
     "name": "stderr",
     "output_type": "stream",
     "text": [
      " 48%|██████████████████████████████████████████▊                                               | 19/40 [02:15<02:37,  7.49s/it]"
     ]
    },
    {
     "name": "stdout",
     "output_type": "stream",
     "text": [
      "RTF : 1.886646115226822\n"
     ]
    },
    {
     "name": "stderr",
     "output_type": "stream",
     "text": [
      " 50%|█████████████████████████████████████████████                                             | 20/40 [02:21<02:21,  7.10s/it]"
     ]
    },
    {
     "name": "stdout",
     "output_type": "stream",
     "text": [
      "RTF : 1.824728078637318\n"
     ]
    },
    {
     "name": "stderr",
     "output_type": "stream",
     "text": [
      " 52%|███████████████████████████████████████████████▎                                          | 21/40 [02:27<02:10,  6.86s/it]"
     ]
    },
    {
     "name": "stdout",
     "output_type": "stream",
     "text": [
      "RTF : 1.9054062198689694\n"
     ]
    },
    {
     "name": "stderr",
     "output_type": "stream",
     "text": [
      " 55%|█████████████████████████████████████████████████▌                                        | 22/40 [02:36<02:13,  7.41s/it]"
     ]
    },
    {
     "name": "stdout",
     "output_type": "stream",
     "text": [
      "RTF : 1.9211463905959578\n"
     ]
    },
    {
     "name": "stderr",
     "output_type": "stream",
     "text": [
      " 57%|███████████████████████████████████████████████████▋                                      | 23/40 [02:43<02:05,  7.39s/it]"
     ]
    },
    {
     "name": "stdout",
     "output_type": "stream",
     "text": [
      "RTF : 1.8346380589740192\n"
     ]
    },
    {
     "name": "stderr",
     "output_type": "stream",
     "text": [
      " 60%|██████████████████████████████████████████████████████                                    | 24/40 [02:51<02:00,  7.55s/it]"
     ]
    },
    {
     "name": "stdout",
     "output_type": "stream",
     "text": [
      "RTF : 1.9032763075222479\n"
     ]
    },
    {
     "name": "stderr",
     "output_type": "stream",
     "text": [
      " 62%|████████████████████████████████████████████████████████▎                                 | 25/40 [02:56<01:43,  6.90s/it]"
     ]
    },
    {
     "name": "stdout",
     "output_type": "stream",
     "text": [
      "RTF : 1.9168176380094835\n"
     ]
    },
    {
     "name": "stderr",
     "output_type": "stream",
     "text": [
      " 65%|██████████████████████████████████████████████████████████▌                               | 26/40 [03:02<01:30,  6.47s/it]"
     ]
    },
    {
     "name": "stdout",
     "output_type": "stream",
     "text": [
      "RTF : 1.8575681752794524\n"
     ]
    },
    {
     "name": "stderr",
     "output_type": "stream",
     "text": [
      " 68%|████████████████████████████████████████████████████████████▊                             | 27/40 [03:09<01:27,  6.70s/it]"
     ]
    },
    {
     "name": "stdout",
     "output_type": "stream",
     "text": [
      "RTF : 1.934678435754023\n",
      "RTF : 1.952615796253344\n"
     ]
    },
    {
     "name": "stderr",
     "output_type": "stream",
     "text": [
      " 72%|█████████████████████████████████████████████████████████████████▎                        | 29/40 [03:24<01:14,  6.82s/it]"
     ]
    },
    {
     "name": "stdout",
     "output_type": "stream",
     "text": [
      "RTF : 1.8578915164026835\n"
     ]
    },
    {
     "name": "stderr",
     "output_type": "stream",
     "text": [
      " 75%|███████████████████████████████████████████████████████████████████▌                      | 30/40 [03:30<01:06,  6.62s/it]"
     ]
    },
    {
     "name": "stdout",
     "output_type": "stream",
     "text": [
      "RTF : 1.890471838204086\n"
     ]
    },
    {
     "name": "stderr",
     "output_type": "stream",
     "text": [
      " 78%|█████████████████████████████████████████████████████████████████████▊                    | 31/40 [03:38<01:02,  6.98s/it]"
     ]
    },
    {
     "name": "stdout",
     "output_type": "stream",
     "text": [
      "RTF : 1.922691035437387\n",
      "RTF : 1.9333757767250817\n"
     ]
    },
    {
     "name": "stderr",
     "output_type": "stream",
     "text": [
      " 82%|██████████████████████████████████████████████████████████████████████████▎               | 33/40 [03:51<00:46,  6.63s/it]"
     ]
    },
    {
     "name": "stdout",
     "output_type": "stream",
     "text": [
      "RTF : 1.946214540497357\n"
     ]
    },
    {
     "name": "stderr",
     "output_type": "stream",
     "text": [
      " 85%|████████████████████████████████████████████████████████████████████████████▌             | 34/40 [03:59<00:42,  7.01s/it]"
     ]
    },
    {
     "name": "stdout",
     "output_type": "stream",
     "text": [
      "RTF : 1.8346283930395095\n"
     ]
    },
    {
     "name": "stderr",
     "output_type": "stream",
     "text": [
      " 88%|██████████████████████████████████████████████████████████████████████████████▊           | 35/40 [04:03<00:30,  6.18s/it]"
     ]
    },
    {
     "name": "stdout",
     "output_type": "stream",
     "text": [
      "RTF : 1.916247008396511\n"
     ]
    },
    {
     "name": "stderr",
     "output_type": "stream",
     "text": [
      " 90%|█████████████████████████████████████████████████████████████████████████████████         | 36/40 [04:08<00:23,  5.85s/it]"
     ]
    },
    {
     "name": "stdout",
     "output_type": "stream",
     "text": [
      "RTF : 1.941940837946839\n"
     ]
    },
    {
     "name": "stderr",
     "output_type": "stream",
     "text": [
      " 92%|███████████████████████████████████████████████████████████████████████████████████▎      | 37/40 [04:16<00:19,  6.61s/it]"
     ]
    },
    {
     "name": "stdout",
     "output_type": "stream",
     "text": [
      "RTF : 1.8441956622568043\n"
     ]
    },
    {
     "name": "stderr",
     "output_type": "stream",
     "text": [
      " 95%|█████████████████████████████████████████████████████████████████████████████████████▌    | 38/40 [04:21<00:12,  6.15s/it]"
     ]
    },
    {
     "name": "stdout",
     "output_type": "stream",
     "text": [
      "RTF : 1.9085075803163185\n"
     ]
    },
    {
     "name": "stderr",
     "output_type": "stream",
     "text": [
      " 98%|███████████████████████████████████████████████████████████████████████████████████████▊  | 39/40 [04:29<00:06,  6.57s/it]"
     ]
    },
    {
     "name": "stdout",
     "output_type": "stream",
     "text": [
      "RTF : 1.9089748132184936\n"
     ]
    },
    {
     "name": "stderr",
     "output_type": "stream",
     "text": [
      "100%|██████████████████████████████████████████████████████████████████████████████████████████| 40/40 [04:36<00:00,  6.91s/it]"
     ]
    },
    {
     "name": "stdout",
     "output_type": "stream",
     "text": [
      "RTF : 1.9125115199291163\n"
     ]
    },
    {
     "name": "stderr",
     "output_type": "stream",
     "text": [
      "\n"
     ]
    }
   ],
   "source": [
    "model = model.train(False)\n",
    "dir = Path(\"eval_nopba\")\n",
    "dir.mkdir(exist_ok=True)\n",
    "\n",
    "codec_rate_hz = 75\n",
    "metadata = []\n",
    "#prompt_len = 5*codec_rate_hz\n",
    "N = 40\n",
    "for i in tqdm(range(N)):\n",
    "    \n",
    "    #sample a speaker then 2 samples with correct lengths\n",
    "    while True:\n",
    "        speaker = choice(speakers)\n",
    "        sample = speaker.select(\"row_nr\", \"length\").sample(2).to_dict(as_series=False)\n",
    "        prompt_l, target_l = sample[\"length\"]\n",
    "        prompt, target = sample[\"row_nr\"]\n",
    "        if prompt_l > target_l:\n",
    "            prompt, target = target, prompt\n",
    "            prompt_l, target_l = target_l, prompt_l\n",
    "        if prompt_l > 3*codec_rate_hz and (prompt_l + target_l) < 15*codec_rate_hz:\n",
    "            break\n",
    "            \n",
    "    batch_prompt = prompt_datamodule.train_dataset[prompt]\n",
    "    batch_target = prompt_datamodule.train_dataset[target]\n",
    "    x_target, _, code_target, phon_target, metadata_target = map(lambda x: x.cuda() if hasattr(x, \"cuda\") else x, batch_target)\n",
    "    x_prompt, y, code_prompt, phon_prompt, metadata_prompt = map(lambda x: x.cuda() if hasattr(x, \"cuda\") else x, batch_prompt)\n",
    "\n",
    "    #dirty fix, fsr \".normalized.txt\" randomly pops out\n",
    "    metadata_prompt = manifest.filter(**metadata_prompt).select(\"speaker\", \"book\", \"chapter\", \"sentence\", \".normalized.txt\").row(0, named=True)\n",
    "    metadata_target = manifest.filter(**metadata_target).select(\"speaker\", \"book\", \"chapter\", \"sentence\", \".normalized.txt\").row(0, named=True)\n",
    "    \n",
    "    x = torch.cat((x_prompt[:-1], x_target[1:]))\n",
    "    start = time.perf_counter()\n",
    "    qs, atts_hat = model.generate(x,\n",
    "                                  device=\"cuda\",\n",
    "                                  k=200,\n",
    "                                  temp=1.,\n",
    "                                  max_seqlen=2000,\n",
    "                                  prompt=y.unsqueeze(0)[:,:-20],\n",
    "                                 )\n",
    "    stop = time.perf_counter()\n",
    "    rtf = (len(qs)/codec_rate_hz)/(stop-start)\n",
    "    print(f\"RTF : {rtf}\")\n",
    "    #save\n",
    "    with open(datamodule.root_path/metadata_prompt[\".normalized.txt\"], \"r\") as f:\n",
    "        text_prompt = f.read()\n",
    "        \n",
    "    with open(datamodule.root_path/metadata_target[\".normalized.txt\"], \"r\") as f:\n",
    "        text_target = f.read()\n",
    "    \n",
    "    \n",
    "    with open(dir/(str(i)+\"_prompt.txt\"), \"w\") as f:\n",
    "        f.write(text_prompt)\n",
    "    with open(dir/(str(i)+\"_target.txt\"), \"w\") as f:\n",
    "        f.write(text_target)\n",
    "\n",
    "    crop = code_prompt.shape[1]\n",
    "    wav = vocos_code_to_wav(to_vocos(qs)[:,crop:], 1)\n",
    "    wav_prompt = vocos_code_to_wav(code_prompt.cuda(), 1)\n",
    "    wav_target = vocos_code_to_wav(code_target.cuda(), 1)\n",
    "    \n",
    "    fig = plot_atts(atts_hat.numpy(force=True)[0])\n",
    "    fig.suptitle(str(i))\n",
    "    fig.savefig(dir/(str(i)+\".png\"))\n",
    "    plt.close(fig)\n",
    "    \n",
    "    with open(dir/(str(i)+\"_synth.wav\"), \"wb\") as f:\n",
    "        f.write(Audio(wav.cpu(), rate=24000).data)\n",
    "    with open(dir/(str(i)+\"_prompt.wav\"), \"wb\") as f:\n",
    "        f.write(Audio(wav_prompt.cpu(), rate=24000).data)\n",
    "    with open(dir/(str(i)+\"_target.wav\"), \"wb\") as f:\n",
    "        f.write(Audio(wav_target.cpu(), rate=24000).data)\n",
    "        \n",
    "    metadata_prompt = {k+\"_prompt\" : v for k, v in metadata_prompt.items()}\n",
    "    metadata_target = {k+\"_target\" : v for k, v in metadata_target.items()}\n",
    "    metadata.append(pl.from_dict({**metadata_prompt,**metadata_target, **{\"text_prompt\": text_prompt, \"text_target\": text_target}}))\n",
    "    \n",
    "pl.concat(metadata).write_json(dir/\"metadata.json\")"
   ]
  },
  {
   "cell_type": "code",
   "execution_count": 56,
   "id": "21d188d7",
   "metadata": {},
   "outputs": [
    {
     "name": "stdout",
     "output_type": "stream",
     "text": [
      "[tensor(0.6972, device='cuda:0'), tensor(0.6678, device='cuda:0'), tensor(0.6525, device='cuda:0'), tensor(0.5813, device='cuda:0')]\n"
     ]
    },
    {
     "data": {
      "text/plain": [
       "<matplotlib.image.AxesImage at 0x7fb543f38fd0>"
      ]
     },
     "execution_count": 56,
     "metadata": {},
     "output_type": "execute_result"
    },
    {
     "data": {
      "image/png": "[encoded data removed]",
      "text/plain": [
       "<Figure size 640x480 with 1 Axes>"
      ]
     },
     "metadata": {},
     "output_type": "display_data"
    }
   ],
   "source": [
    "model = model.train(False)\n",
    "#model.attention.loc_fn.lag = 0\n",
    "batch = next(dl)\n",
    "batch = tuple(map(lambda x: x.cuda() if hasattr(x, \"cuda\") else x, batch))\n",
    "with torch.no_grad():\n",
    "    x, y, x_len, y_len, code, phon, metadata = batch\n",
    "    logits_orig, loss, atts, acc = model(x, y, x_len, y_len)\n",
    "print(acc)\n",
    "plt.imshow(atts.numpy(force=True)[0,1].T)"
   ]
  }
 ],
 "metadata": {
  "kernelspec": {
   "display_name": "Python 3 (ipykernel)",
   "language": "python",
   "name": "python3"
  },
  "language_info": {
   "codemirror_mode": {
    "name": "ipython",
    "version": 3
   },
   "file_extension": ".py",
   "mimetype": "text/x-python",
   "name": "python",
   "nbconvert_exporter": "python",
   "pygments_lexer": "ipython3",
   "version": "3.10.13"
  }
 },
 "nbformat": 4,
 "nbformat_minor": 5
}
